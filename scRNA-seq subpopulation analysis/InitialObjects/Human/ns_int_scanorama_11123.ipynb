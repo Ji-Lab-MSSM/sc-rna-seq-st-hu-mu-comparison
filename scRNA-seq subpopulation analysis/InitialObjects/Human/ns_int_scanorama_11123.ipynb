{
 "cells": [
  {
   "cell_type": "code",
   "execution_count": null,
   "id": "7c368650-bd1f-4d33-85b0-e2639d4330a2",
   "metadata": {},
   "outputs": [],
   "source": [
    "import anndata as ad\n",
    "import numpy as np\n",
    "import pandas as pd\n",
    "import scanpy as sc\n",
    "import scanorama\n",
    "import seaborn as sns"
   ]
  },
  {
   "cell_type": "code",
   "execution_count": null,
   "id": "4cbb05ef-3858-4509-8f33-19ccad3a162c",
   "metadata": {},
   "outputs": [],
   "source": [
    "### Scanorama integration\n",
    "\n",
    "base_path = ### Insert base path\n",
    "base_path = 'integrated_snn_res.0.4'\n",
    "ad_ns_int = sc.read_h5ad(f\"{base_path}ns_int.h5ad\")\n",
    "\n",
    "ad_ns_int.X = ad_ns_int.raw.X"
   ]
  },
  {
   "cell_type": "code",
   "execution_count": null,
   "id": "bc186706-fc1f-49ea-9334-86d0186bc298",
   "metadata": {},
   "outputs": [],
   "source": [
    "sc.pp.normalize_total(ad_ns_int, target_sum = 1e4)\n",
    "sc.pp.log1p(ad_ns_int)"
   ]
  },
  {
   "cell_type": "code",
   "execution_count": null,
   "id": "50931175-00a1-4dd0-9680-8cdb7872e845",
   "metadata": {},
   "outputs": [],
   "source": [
    "sc.pp.highly_variable_genes(ad_ns_int, min_mean = 0.0125, max_mean = 3, min_disp = 0.5, batch_key = \"sample\")"
   ]
  },
  {
   "cell_type": "code",
   "execution_count": null,
   "id": "9b67afd9-ab19-4838-99e2-383ac16d6898",
   "metadata": {},
   "outputs": [],
   "source": [
    "var_select = ad_ns_int.var.highly_variable_nbatches >= 22\n",
    "var_genes = var_select.index[var_select]"
   ]
  },
  {
   "cell_type": "code",
   "execution_count": null,
   "id": "959df1a4-bad3-43b0-88ca-45aeef6d099c",
   "metadata": {},
   "outputs": [],
   "source": [
    "samples = ad_ns_int.obs[\"sample\"].cat.categories.tolist()"
   ]
  },
  {
   "cell_type": "code",
   "execution_count": null,
   "id": "2b832560-d32f-4649-a0a5-46f2eee94328",
   "metadata": {},
   "outputs": [],
   "source": [
    "adatas_hvg = [ad_ns_int[ad_ns_int.obs[\"sample\"] == sample][:, var_genes] for sample in samples]"
   ]
  },
  {
   "cell_type": "code",
   "execution_count": null,
   "id": "5615d50d-0830-4840-8b9e-2877b8b39e68",
   "metadata": {},
   "outputs": [],
   "source": [
    "adatas_scanorama = scanorama.correct_scanpy(adatas_hvg, return_dimred = True) "
   ]
  },
  {
   "cell_type": "code",
   "execution_count": null,
   "id": "bdc10756-9b8e-456a-abd1-74df657579ad",
   "metadata": {},
   "outputs": [],
   "source": [
    "adata_samples = ad.concat(adatas_scanorama)"
   ]
  },
  {
   "cell_type": "code",
   "execution_count": null,
   "id": "98922ded-301c-41d3-8156-61d6af92ab3b",
   "metadata": {},
   "outputs": [],
   "source": [
    "sc.pp.neighbors(adata_samples, use_rep = \"X_scanorama\", key_added = \"scanorama\")\n",
    "\n",
    "sc.tl.umap(adata_samples, neighbors_key = \"scanorama\")\n",
    "\n",
    "sc.tl.leiden(adata_samples, resolution = 0.6, key_added = \"scanorama_clusters\", neighbors_key = \"scanorama\")"
   ]
  },
  {
   "cell_type": "code",
   "execution_count": null,
   "id": "7c403a07-af36-4e17-bfa4-4774f46e0a30",
   "metadata": {},
   "outputs": [],
   "source": [
    "sc.pl.umap(adata_samples, color = \"dataset\", palette = sns.husl_palette(s = 0.8), legend_loc = \"right margin\", frameon = False, title = \"\")"
   ]
  },
  {
   "cell_type": "code",
   "execution_count": null,
   "id": "1c6d55bc-a3cc-4dc4-986b-4a901eec318b",
   "metadata": {},
   "outputs": [],
   "source": [
    "sc.pl.umap(adata_samples, color = \"scanorama_clusters\", palette = sns.husl_palette(25, s = 0.8), \n",
    "           legend_fontsize = \"x-small\", legend_fontweight = \"medium\", legend_loc = \"on data\", frameon = False, title = \"\")"
   ]
  },
  {
   "cell_type": "code",
   "execution_count": null,
   "id": "c4475425-b01e-44e8-8e8e-ef4b061d3fb6",
   "metadata": {},
   "outputs": [],
   "source": [
    "### Plotting\n",
    "\n",
    "import matplotlib.pyplot as plt\n",
    "plt.rcParams[\"figure.dpi\"] = 300\n",
    "%config InlineBackend.figure_formats = [\"png\"]"
   ]
  },
  {
   "cell_type": "code",
   "execution_count": null,
   "id": "7b97759f-613c-4b20-bac8-01c65cec9fce",
   "metadata": {},
   "outputs": [],
   "source": [
    "legend_order = list(adata_samples.obs[\"sample\"].unique())\n",
    "sorted_legend_order = sorted(legend_order, key = str.casefold)\n",
    "adata_samples.obs[\"sample\"].cat.reorder_categories(sorted_legend_order, inplace = True)\n",
    "adata_samples.obs[\"sample\"]"
   ]
  },
  {
   "cell_type": "code",
   "execution_count": null,
   "id": "41eec1fa-cff2-4fca-8578-69586ef1c8dd",
   "metadata": {},
   "outputs": [],
   "source": [
    "color_palette = sns.husl_palette(38, s = 0.8)\n",
    "sorted_legend_index = [sorted_legend_order.index(sample) for sample in legend_order]\n",
    "sorted_color_palette = [color_palette[i] for i in sorted_legend_index]"
   ]
  },
  {
   "cell_type": "code",
   "execution_count": null,
   "id": "c9a5f480-fd07-4c17-ac75-c86f7d4aa0c4",
   "metadata": {},
   "outputs": [],
   "source": [
    "sc.pl.umap(adata_samples, color = \"sample\", palette = sorted_color_palette, \n",
    "           legend_fontsize = \"x-small\", legend_fontweight = \"medium\", legend_loc = \"right margin\", frameon = False, title = \"\")"
   ]
  },
  {
   "cell_type": "code",
   "execution_count": null,
   "id": "e58ac7d3-6530-4f4d-85d0-5d9623f8c6f4",
   "metadata": {},
   "outputs": [],
   "source": [
    "save_dir = ### Insert save directory"
   ]
  },
  {
   "cell_type": "code",
   "execution_count": null,
   "id": "554b165c-4ac7-4652-aa0f-4d1de855a1bc",
   "metadata": {},
   "outputs": [],
   "source": [
    "adata_samples.write(f\"{save_dir}ns_scRNAseq_scanorama_integration.h5ad\")"
   ]
  },
  {
   "cell_type": "code",
   "execution_count": null,
   "id": "5611d576-a29c-4982-be52-9561df734fb1",
   "metadata": {},
   "outputs": [],
   "source": [
    "df_save = pd.DataFrame(adata_samples.obs[\"scanorama_clusters\"])\n",
    "df_save[[\"umap_1\", \"umap_2\"]] = adata_samples.obsm[\"X_umap\"]"
   ]
  },
  {
   "cell_type": "code",
   "execution_count": null,
   "id": "290135ac-9048-418c-93f6-810335446801",
   "metadata": {},
   "outputs": [],
   "source": [
    "df_save.to_csv(f\"{save_dir}ns_scRNAseq_scanorama_integration_umap.csv\")"
   ]
  }
 ],
 "metadata": {
  "kernelspec": {
   "display_name": "Python 3 (ipykernel)",
   "language": "python",
   "name": "python3"
  },
  "language_info": {
   "codemirror_mode": {
    "name": "ipython",
    "version": 3
   },
   "file_extension": ".py",
   "mimetype": "text/x-python",
   "name": "python",
   "nbconvert_exporter": "python",
   "pygments_lexer": "ipython3",
   "version": "3.9.12"
  }
 },
 "nbformat": 4,
 "nbformat_minor": 5
}
